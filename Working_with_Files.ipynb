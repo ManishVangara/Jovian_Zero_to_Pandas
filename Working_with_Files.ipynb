{
 "cells": [
  {
   "cell_type": "code",
   "execution_count": 2,
   "metadata": {},
   "outputs": [
    {
     "name": "stdout",
     "output_type": "stream",
     "text": [
      "/Users/Manish/Desktop/ZerotoPandas/Jovian_Zero_to_Pandas\n",
      "['Working_with_OSandFiles.py', 'Working_with_Files.ipynb', 'test.py', 'README.md', '.ipynb_checkpoints', '.git', 'data']\n",
      "['Working_with_OSandFiles.py', 'Working_with_Files.ipynb', 'test.py', 'README.md', '.ipynb_checkpoints', '.git', 'data']\n",
      "['Working_with_OSandFiles.py', 'Working_with_Files.ipynb', 'test.py', 'README.md', '.ipynb_checkpoints', '.git', 'data']\n",
      "['Working_with_OSandFiles.py', 'Working_with_Files.ipynb', 'test.py', 'README.md', '.ipynb_checkpoints', '.git', 'data']\n"
     ]
    }
   ],
   "source": [
    "import os # importing OS module\n",
    "import urllib.request # importing the library for url retrieves\n",
    "\n",
    "print(os.getcwd()) # Outputs current working directory\n",
    "print(os.listdir()) # Lists out the cwd's files\n",
    "print(os.listdir('.')) #relative path\n",
    "print(os.listdir('/Users/Manish/Desktop/ZerotoPandas/Jovian_Zero_to_Pandas')) # Absolute path\n",
    "\n",
    "# print(help(os.listdir())) # documentation for the function\n",
    "\n",
    "os.makedirs(\"./data\", exist_ok=True)\n",
    "\n",
    "print(os.listdir())\n",
    "\n",
    "# url1 = 'https://gist.githubusercontent.com/aakashns/257f6e6c8719c17d0e498ea287d1a386/raw/7def9ef4234ddf0bc82f855ad67dac8b971852ef/loans1.txt'\n",
    "# url2 = 'https://gist.githubusercontent.com/aakashns/257f6e6c8719c17d0e498ea287d1a386/raw/7def9ef4234ddf0bc82f855ad67dac8b971852ef/loans2.txt'\n",
    "# url3 = 'https://gist.githubusercontent.com/aakashns/257f6e6c8719c17d0e498ea287d1a386/raw/7def9ef4234ddf0bc82f855ad67dac8b971852ef/loans3.txt'\n",
    "\n",
    "# urllib.request.urlretrieve(url1,'./data/loans1.txt')\n",
    "# urllib.request.urlretrieve(url2, './data/loans2.txt')\n",
    "# urllib.request.urlretrieve(url3, './data/loans3.txt')\n"
   ]
  },
  {
   "cell_type": "code",
   "execution_count": 3,
   "metadata": {},
   "outputs": [
    {
     "data": {
      "text/plain": [
       "[]"
      ]
     },
     "execution_count": 3,
     "metadata": {},
     "output_type": "execute_result"
    }
   ],
   "source": [
    "os.listdir('./data')"
   ]
  },
  {
   "cell_type": "code",
   "execution_count": 4,
   "metadata": {},
   "outputs": [
    {
     "data": {
      "text/plain": [
       "True"
      ]
     },
     "execution_count": 4,
     "metadata": {},
     "output_type": "execute_result"
    }
   ],
   "source": [
    "'data' in os.listdir()"
   ]
  },
  {
   "attachments": {},
   "cell_type": "markdown",
   "metadata": {},
   "source": [
    "### Links for the loan files."
   ]
  },
  {
   "cell_type": "code",
   "execution_count": null,
   "metadata": {},
   "outputs": [],
   "source": [
    "url1 = 'https://gist.githubusercontent.com/aakashns/257f6e6c8719c17d0e498ea287d1a386/raw/7def9ef4234ddf0bc82f855ad67dac8b971852ef/loans1.txt'\n",
    "url2 = 'https://gist.githubusercontent.com/aakashns/257f6e6c8719c17d0e498ea287d1a386/raw/7def9ef4234ddf0bc82f855ad67dac8b971852ef/loans2.txt'\n",
    "url3 = 'https://gist.githubusercontent.com/aakashns/257f6e6c8719c17d0e498ea287d1a386/raw/7def9ef4234ddf0bc82f855ad67dac8b971852ef/loans3.txt'"
   ]
  },
  {
   "cell_type": "code",
   "execution_count": null,
   "metadata": {},
   "outputs": [],
   "source": [
    "urllib.request.urlretrieve(url1, './data/loans1.txt')"
   ]
  }
 ],
 "metadata": {
  "kernelspec": {
   "display_name": "Python 3",
   "language": "python",
   "name": "python3"
  },
  "language_info": {
   "codemirror_mode": {
    "name": "ipython",
    "version": 3
   },
   "file_extension": ".py",
   "mimetype": "text/x-python",
   "name": "python",
   "nbconvert_exporter": "python",
   "pygments_lexer": "ipython3",
   "version": "3.11.2"
  },
  "orig_nbformat": 4
 },
 "nbformat": 4,
 "nbformat_minor": 2
}
